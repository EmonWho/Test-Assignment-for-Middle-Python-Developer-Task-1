{
 "cells": [
  {
   "cell_type": "code",
   "execution_count": 9,
   "metadata": {},
   "outputs": [
    {
     "name": "stdout",
     "output_type": "stream",
     "text": [
      "Processing 100 + 20\n",
      "Processing 200 + 30\n",
      "Processing 30 + 40\n",
      "Processing 400 + 50\n",
      "Processing 500 + 60\n",
      "Processing 800 + 70\n",
      "Processing 700 + 80\n"
     ]
    }
   ],
   "source": [
    "import os.path\n",
    "\n",
    "from google.auth.transport.requests import Request\n",
    "from google.oauth2.credentials import Credentials\n",
    "from google_auth_oauthlib.flow import InstalledAppFlow\n",
    "from googleapiclient.discovery import build\n",
    "from googleapiclient.errors import HttpError\n",
    "\n",
    "SCOPES = [\"https://www.googleapis.com/auth/spreadsheets\"]\n",
    "\n",
    "SPREADSHEET_ID = \"1axD30glswzTv_zLq5crNN7JJ4VIcpRomlSjsGB906d0\"\n",
    "\n",
    "def main():\n",
    "    credentials = None\n",
    "    if os.path.exists(\"token.json\"):\n",
    "        credentials = Credentials.from_authorized_user_file(\"token.json\", SCOPES)\n",
    "\n",
    "    if not credentials or not credentials.valid:\n",
    "        if credentials and credentials.expired and credentials.refresh_token:\n",
    "            credentials.refresh(Request())\n",
    "        else:\n",
    "            flow = InstalledAppFlow.from_client_secrets_file(\"credentials.json\", SCOPES)\n",
    "            credentials = flow.run_local_server(port=0)\n",
    "\n",
    "        with open(\"token.json\", \"w\") as token:\n",
    "            token.write(credentials.to_json())\n",
    "    try:\n",
    "        service = build(\"sheets\", \"v4\", credentials=credentials)\n",
    "        sheet = service.spreadsheets()\n",
    "\n",
    "        for row in range(2, 9):\n",
    "            number1 = int(sheet.values().get(spreadsheetId=SPREADSHEET_ID, range=f\"Sheet1!A{row}\").execute().get(\"values\")[0][0])\n",
    "            number2 = int(sheet.values().get(spreadsheetId=SPREADSHEET_ID, range=f\"Sheet1!B{row}\").execute().get(\"values\")[0][0])\n",
    "            calculation_result = number1 + number2\n",
    "            print(f\"Processing {number1} + {number2}\")\n",
    "            sheet.values().update(spreadsheetId=SPREADSHEET_ID, range=f\"Sheet1!C{row}\",\n",
    "                                  valueInputOption=\"USER_ENTERED\", body={\"values\": [[f\"{calculation_result}\"]]}).execute()\n",
    "\n",
    "            sheet.values().update(spreadsheetId=SPREADSHEET_ID, range=f\"Sheet1!D{row}\",\n",
    "                                  valueInputOption=\"USER_ENTERED\", body={\"values\": [[\"Done\"]]}).execute()\n",
    "\n",
    "    except HttpError as err:\n",
    "        print(err)\n",
    "\n",
    "if __name__ == \"__main__\":\n",
    "    main()"
   ]
  }
 ],
 "metadata": {
  "kernelspec": {
   "display_name": "emon",
   "language": "python",
   "name": "python3"
  },
  "language_info": {
   "codemirror_mode": {
    "name": "ipython",
    "version": 3
   },
   "file_extension": ".py",
   "mimetype": "text/x-python",
   "name": "python",
   "nbconvert_exporter": "python",
   "pygments_lexer": "ipython3",
   "version": "3.11.2"
  },
  "orig_nbformat": 4,
  "vscode": {
   "interpreter": {
    "hash": "94f5dc863f2dab887adf79d15af2223207edf6b88039cb25cfc6041a06df14d3"
   }
  }
 },
 "nbformat": 4,
 "nbformat_minor": 2
}
