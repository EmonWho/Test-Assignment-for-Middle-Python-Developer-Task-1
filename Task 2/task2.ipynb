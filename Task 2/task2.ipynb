{
 "cells": [
  {
   "cell_type": "code",
   "execution_count": 2,
   "metadata": {},
   "outputs": [
    {
     "name": "stdout",
     "output_type": "stream",
     "text": [
      "All Tasks: [(1, 'Complete Assignment', 'Completed'), (3, 'Complete Assignment', 'Pending'), (4, 'Review Documentation', 'In Progress')]\n",
      "Tasks after Update: [(1, 'Complete Assignment', 'Completed'), (3, 'Complete Assignment', 'Pending'), (4, 'Review Documentation', 'In Progress')]\n",
      "Tasks after Delete: [(1, 'Complete Assignment', 'Completed'), (3, 'Complete Assignment', 'Pending'), (4, 'Review Documentation', 'In Progress')]\n"
     ]
    }
   ],
   "source": [
    "import sqlite3\n",
    "\n",
    "# Connect to SQLite database \n",
    "connection = sqlite3.connect('tasks.db')\n",
    "\n",
    "# Create a cursor object to execute SQL queries\n",
    "cursor = connection.cursor()\n",
    "\n",
    "# Create tasks table\n",
    "cursor.execute('''\n",
    "    CREATE TABLE IF NOT EXISTS tasks (\n",
    "        id INTEGER PRIMARY KEY AUTOINCREMENT,\n",
    "        name TEXT NOT NULL,\n",
    "        status TEXT NOT NULL\n",
    "    )\n",
    "''')\n",
    "\n",
    "# Function to add a new task\n",
    "def add_task(name, status):\n",
    "    cursor.execute('INSERT INTO tasks (name, status) VALUES (?, ?)', (name, status))\n",
    "    connection.commit()\n",
    "\n",
    "# Function to retrieve all tasks\n",
    "def get_tasks():\n",
    "    cursor.execute('SELECT * FROM tasks')\n",
    "    return cursor.fetchall()\n",
    "\n",
    "# Function to update task status\n",
    "def update_task_status(task_id, new_status):\n",
    "    cursor.execute('UPDATE tasks SET status=? WHERE id=?', (new_status, task_id))\n",
    "    connection.commit()\n",
    "\n",
    "# Function to delete a task\n",
    "def delete_task(task_id):\n",
    "    cursor.execute('DELETE FROM tasks WHERE id=?', (task_id,))\n",
    "    connection.commit()\n",
    "\n",
    "# Example usage\n",
    "add_task('Complete Assignment', 'Pending')\n",
    "add_task('Review Documentation', 'In Progress')\n",
    "\n",
    "tasks = get_tasks()\n",
    "print('All Tasks:', tasks)\n",
    "\n",
    "update_task_status(1, 'Completed')\n",
    "\n",
    "tasks_after_update = get_tasks()\n",
    "print('Tasks after Update:', tasks_after_update)\n",
    "\n",
    "delete_task(2)\n",
    "\n",
    "tasks_after_delete = get_tasks()\n",
    "print('Tasks after Delete:', tasks_after_delete)\n",
    "\n",
    "# Close the database connection\n",
    "connection.close()\n"
   ]
  }
 ],
 "metadata": {
  "kernelspec": {
   "display_name": "emon",
   "language": "python",
   "name": "python3"
  },
  "language_info": {
   "codemirror_mode": {
    "name": "ipython",
    "version": 3
   },
   "file_extension": ".py",
   "mimetype": "text/x-python",
   "name": "python",
   "nbconvert_exporter": "python",
   "pygments_lexer": "ipython3",
   "version": "3.11.2"
  },
  "orig_nbformat": 4,
  "vscode": {
   "interpreter": {
    "hash": "94f5dc863f2dab887adf79d15af2223207edf6b88039cb25cfc6041a06df14d3"
   }
  }
 },
 "nbformat": 4,
 "nbformat_minor": 2
}
