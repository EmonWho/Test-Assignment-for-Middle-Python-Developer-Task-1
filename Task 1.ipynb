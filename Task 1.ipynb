{
  "nbformat": 4,
  "nbformat_minor": 0,
  "metadata": {
    "colab": {
      "provenance": []
    },
    "kernelspec": {
      "name": "python3",
      "display_name": "Python 3"
    },
    "language_info": {
      "name": "python"
    }
  },
  "cells": [
    {
      "cell_type": "code",
      "execution_count": null,
      "metadata": {
        "id": "0Ud461E6GTSM"
      },
      "outputs": [],
      "source": [
        "import tensorflow as tf\n",
        "from tensorflow.keras import layers, models\n",
        "from tensorflow.keras.datasets import mnist\n",
        "from tensorflow.keras.utils import to_categorical"
      ]
    },
    {
      "cell_type": "code",
      "source": [
        "(train_images, train_labels), (test_images, test_labels) = mnist.load_data()\n",
        "train_images = train_images.reshape((60000, 28, 28, 1)).astype('float32') / 255\n",
        "test_images = test_images.reshape((10000, 28, 28, 1)).astype('float32') / 255\n",
        "\n",
        "train_labels = to_categorical(train_labels)\n",
        "test_labels = to_categorical(test_labels)\n"
      ],
      "metadata": {
        "colab": {
          "base_uri": "https://localhost:8080/"
        },
        "id": "P6ZINBgnGnkr",
        "outputId": "a2ad90b4-713f-425f-c401-20fc51c8c35d"
      },
      "execution_count": null,
      "outputs": [
        {
          "output_type": "stream",
          "name": "stdout",
          "text": [
            "Downloading data from https://storage.googleapis.com/tensorflow/tf-keras-datasets/mnist.npz\n",
            "11490434/11490434 [==============================] - 0s 0us/step\n"
          ]
        }
      ]
    },
    {
      "cell_type": "code",
      "source": [
        "model = models.Sequential()\n",
        "model.add(layers.Conv2D(32, (3, 3), activation='relu', input_shape=(28, 28, 1)))\n",
        "model.add(layers.MaxPooling2D((2, 2)))\n",
        "model.add(layers.Conv2D(64, (3, 3), activation='relu'))\n",
        "model.add(layers.MaxPooling2D((2, 2)))\n",
        "model.add(layers.Conv2D(64, (3, 3), activation='relu'))\n",
        "model.add(layers.Flatten())\n",
        "model.add(layers.Dense(64, activation='relu'))\n",
        "model.add(layers.Dense(10, activation='softmax'))\n"
      ],
      "metadata": {
        "id": "7WH9PaeOGnoU"
      },
      "execution_count": null,
      "outputs": []
    },
    {
      "cell_type": "code",
      "source": [
        "model.compile(optimizer='adam',\n",
        "              loss='categorical_crossentropy',\n",
        "              metrics=['accuracy'])\n"
      ],
      "metadata": {
        "id": "1kjcy-SAGnrr"
      },
      "execution_count": null,
      "outputs": []
    },
    {
      "cell_type": "code",
      "source": [
        "model.fit(train_images, train_labels, epochs=5, batch_size=64, validation_split=0.2)\n"
      ],
      "metadata": {
        "colab": {
          "base_uri": "https://localhost:8080/"
        },
        "id": "G7riQ_gbG0fA",
        "outputId": "c593cb74-5f50-43fe-c19b-3af1c1b47f5c"
      },
      "execution_count": null,
      "outputs": [
        {
          "output_type": "stream",
          "name": "stdout",
          "text": [
            "Epoch 1/5\n",
            "750/750 [==============================] - 43s 56ms/step - loss: 0.2078 - accuracy: 0.9376 - val_loss: 0.0600 - val_accuracy: 0.9828\n",
            "Epoch 2/5\n",
            "750/750 [==============================] - 41s 54ms/step - loss: 0.0526 - accuracy: 0.9839 - val_loss: 0.0500 - val_accuracy: 0.9850\n",
            "Epoch 3/5\n",
            "750/750 [==============================] - 41s 54ms/step - loss: 0.0374 - accuracy: 0.9881 - val_loss: 0.0456 - val_accuracy: 0.9865\n",
            "Epoch 4/5\n",
            "750/750 [==============================] - 41s 55ms/step - loss: 0.0286 - accuracy: 0.9911 - val_loss: 0.0431 - val_accuracy: 0.9877\n",
            "Epoch 5/5\n",
            "750/750 [==============================] - 39s 51ms/step - loss: 0.0236 - accuracy: 0.9926 - val_loss: 0.0390 - val_accuracy: 0.9884\n"
          ]
        },
        {
          "output_type": "execute_result",
          "data": {
            "text/plain": [
              "<keras.src.callbacks.History at 0x788abe8156f0>"
            ]
          },
          "metadata": {},
          "execution_count": 5
        }
      ]
    },
    {
      "cell_type": "code",
      "source": [
        "test_loss, test_acc = model.evaluate(test_images, test_labels)\n",
        "print(f'Test accuracy: {test_acc}')\n",
        "print(f'Test loss: {test_loss}')"
      ],
      "metadata": {
        "colab": {
          "base_uri": "https://localhost:8080/"
        },
        "id": "tnlc0g3fG0iE",
        "outputId": "008d9254-0d4d-4bc0-b58c-ae939a14cf93"
      },
      "execution_count": null,
      "outputs": [
        {
          "output_type": "stream",
          "name": "stdout",
          "text": [
            "313/313 [==============================] - 3s 9ms/step - loss: 0.0273 - accuracy: 0.9906\n",
            "Test accuracy: 0.9905999898910522\n",
            "Test loss: 0.027271118015050888\n"
          ]
        }
      ]
    },
    {
      "cell_type": "code",
      "source": [
        "# Function to train the model\n",
        "def train_model(model, train_images, train_labels, epochs=5, batch_size=64, validation_split=0.2):\n",
        "    history = model.fit(train_images, train_labels, epochs=epochs, batch_size=batch_size, validation_split=validation_split)\n",
        "    return history"
      ],
      "metadata": {
        "id": "QoMf0AKiJxfu"
      },
      "execution_count": null,
      "outputs": []
    },
    {
      "cell_type": "code",
      "source": [
        "def train_model(model, train_images, train_labels, epochs=5, batch_size=64, validation_split=0.2):\n",
        "    history = model.fit(train_images, train_labels, epochs=epochs, batch_size=batch_size, validation_split=validation_split)\n",
        "    return history\n",
        "\n",
        "# Function to plot training history (accuracy and loss over epochs)\n",
        "def plot_training_history(history):\n",
        "    plt.figure(figsize=(12, 4))\n",
        "\n",
        "    # Plot training & validation accuracy values\n",
        "    plt.subplot(1, 2, 1)\n",
        "    plt.plot(history.history['accuracy'])\n",
        "    plt.plot(history.history['val_accuracy'])\n",
        "    plt.title('Model Accuracy')\n",
        "    plt.xlabel('Epoch')\n",
        "    plt.ylabel('Accuracy')\n",
        "    plt.legend(['Train', 'Validation'], loc='upper left')"
      ],
      "metadata": {
        "id": "6Jt8g6sAKDLQ"
      },
      "execution_count": null,
      "outputs": []
    },
    {
      "cell_type": "code",
      "source": [
        "# Function to plot training history (accuracy and loss over epochs)\n",
        "def plot_training_history(history):\n",
        "    plt.figure(figsize=(12, 4))\n",
        "\n",
        "    # Plot training & validation accuracy values\n",
        "    plt.subplot(1, 2, 1)\n",
        "    plt.plot(history.history['accuracy'])\n",
        "    plt.plot(history.history['val_accuracy'])\n",
        "    plt.title('Model Accuracy')\n",
        "    plt.xlabel('Epoch')\n",
        "    plt.ylabel('Accuracy')\n",
        "    plt.legend(['Train', 'Validation'], loc='upper left')"
      ],
      "metadata": {
        "id": "4TgAB4V_KIY4"
      },
      "execution_count": null,
      "outputs": []
    },
    {
      "cell_type": "code",
      "source": [
        "# Train the model and store the training history\n",
        "history = train_model(model, train_images, train_labels, epochs=5, batch_size=64, validation_split=0.2)"
      ],
      "metadata": {
        "colab": {
          "base_uri": "https://localhost:8080/"
        },
        "id": "b739Qa5_KTSP",
        "outputId": "4eee0e8f-e7e7-4d7e-f3b2-006810e76654"
      },
      "execution_count": null,
      "outputs": [
        {
          "output_type": "stream",
          "name": "stdout",
          "text": [
            "Epoch 1/5\n",
            "750/750 [==============================] - 42s 56ms/step - loss: 0.0190 - accuracy: 0.9939 - val_loss: 0.0444 - val_accuracy: 0.9883\n",
            "Epoch 2/5\n",
            "750/750 [==============================] - 41s 55ms/step - loss: 0.0165 - accuracy: 0.9945 - val_loss: 0.0341 - val_accuracy: 0.9905\n",
            "Epoch 3/5\n",
            "750/750 [==============================] - 39s 52ms/step - loss: 0.0131 - accuracy: 0.9953 - val_loss: 0.0476 - val_accuracy: 0.9882\n",
            "Epoch 4/5\n",
            "750/750 [==============================] - 40s 54ms/step - loss: 0.0115 - accuracy: 0.9961 - val_loss: 0.0427 - val_accuracy: 0.9892\n",
            "Epoch 5/5\n",
            "750/750 [==============================] - 41s 54ms/step - loss: 0.0099 - accuracy: 0.9964 - val_loss: 0.0518 - val_accuracy: 0.9877\n"
          ]
        }
      ]
    },
    {
      "cell_type": "code",
      "source": [
        "import numpy as np\n",
        "\n",
        "\n",
        "# Function to evaluate the model on the test set\n",
        "def evaluate_model(model, test_images, test_labels):\n",
        "    test_loss, test_acc = model.evaluate(test_images, test_labels)\n",
        "    print(f'Test accuracy: {test_acc}')\n",
        "    print(f'Test loss: {test_loss}')\n",
        "\n",
        "def display_predictions(model, test_images, test_labels, num_predictions=5):\n",
        "    predictions = model.predict(test_images)\n",
        "    for i in range(num_predictions):\n",
        "        print(f\"Predicted: {np.argmax(predictions[i])}, Actual: {np.argmax(test_labels[i])}\")\n",
        "        plt.imshow(test_images[i].reshape(28, 28), cmap='gray')\n",
        "        plt.show()\n",
        "\n",
        "\n",
        "def train_model(model, train_images, train_labels, epochs=5, batch_size=64, validation_split=0.2):\n",
        "    history = model.fit(train_images, train_labels, epochs=epochs, batch_size=batch_size, validation_split=validation_split)\n",
        "    return history\n",
        "\n",
        "# Function to plot training history (accuracy and loss over epochs)\n",
        "def plot_training_history(history):\n",
        "    plt.figure(figsize=(12, 4))\n",
        "\n",
        "\n",
        "plot_training_history(history)\n",
        "evaluate_model(model, test_images, test_labels)\n",
        "display_predictions(model, test_images, test_labels, num_predictions=5)\n"
      ],
      "metadata": {
        "colab": {
          "base_uri": "https://localhost:8080/",
          "height": 1000
        },
        "id": "PPgN9x3aJlnV",
        "outputId": "e1d5bf53-5a32-4286-ec31-c21da0a9e9b0"
      },
      "execution_count": null,
      "outputs": [
        {
          "output_type": "stream",
          "name": "stdout",
          "text": [
            "313/313 [==============================] - 4s 13ms/step - loss: 0.0385 - accuracy: 0.9900\n",
            "Test accuracy: 0.9900000095367432\n",
            "Test loss: 0.038453359156847\n",
            "313/313 [==============================] - 2s 8ms/step\n",
            "Predicted: 7, Actual: 7\n"
          ]
        },
        {
          "output_type": "display_data",
          "data": {
            "text/plain": [
              "<Figure size 1200x400 with 1 Axes>"
            ],
            "image/png": "[encoded data removed]"
          },
          "metadata": {}
        },
        {
          "output_type": "stream",
          "name": "stdout",
          "text": [
            "Predicted: 2, Actual: 2\n"
          ]
        },
        {
          "output_type": "display_data",
          "data": {
            "text/plain": [
              "<Figure size 640x480 with 1 Axes>"
            ],
            "image/png": "[encoded data removed]"
          },
          "metadata": {}
        },
        {
          "output_type": "stream",
          "name": "stdout",
          "text": [
            "Predicted: 1, Actual: 1\n"
          ]
        },
        {
          "output_type": "display_data",
          "data": {
            "text/plain": [
              "<Figure size 640x480 with 1 Axes>"
            ],
            "image/png": "[encoded data removed]"
          },
          "metadata": {}
        },
        {
          "output_type": "stream",
          "name": "stdout",
          "text": [
            "Predicted: 0, Actual: 0\n"
          ]
        },
        {
          "output_type": "display_data",
          "data": {
            "text/plain": [
              "<Figure size 640x480 with 1 Axes>"
            ],
            "image/png": "[encoded data removed]"
          },
          "metadata": {}
        },
        {
          "output_type": "stream",
          "name": "stdout",
          "text": [
            "Predicted: 4, Actual: 4\n"
          ]
        },
        {
          "output_type": "display_data",
          "data": {
            "text/plain": [
              "<Figure size 640x480 with 1 Axes>"
            ],
            "image/png": "[encoded data removed]"
          },
          "metadata": {}
        }
      ]
    },
    {
      "cell_type": "code",
      "source": [],
      "metadata": {
        "id": "v-wgIG_YL-qA"
      },
      "execution_count": null,
      "outputs": []
    }
  ]
}